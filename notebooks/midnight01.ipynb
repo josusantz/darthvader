{
 "cells": [
  {
   "cell_type": "code",
   "execution_count": 55,
   "id": "f88d2749-7cbd-4758-b64c-05699d89a70e",
   "metadata": {},
   "outputs": [],
   "source": [
    "import pandas as pd\n",
    "import numpy as np\n",
    "import scripts.mytools as mytools"
   ]
  },
  {
   "cell_type": "code",
   "execution_count": 56,
   "id": "fd39fc20-3c26-426b-be46-a0a15483c7ba",
   "metadata": {},
   "outputs": [],
   "source": [
    "df = pd.read_csv('dados_A215_H_2008-06-13_2024-01-01.csv',sep= ';', header = 9)\n",
    "df['Data Medicao'] = pd.to_datetime(df['Data Medicao'])\n",
    "df['Hora Medicao'] = pd.to_datetime(df['Hora Medicao'])\n",
    "df['ano'] = df['Data Medicao'].dt.year\n",
    "df['mes'] = df['Data Medicao'].dt.month\n",
    "df['dia'] = df['Data Medicao'].dt.day\n",
    "# df['hora']= df['Hora Medicao'].str[-4:-2].astype(int)\n",
    "for col in df.columns:\n",
    "    if df[col].dtype == 'object':\n",
    "        df[col] = df[col].str.replace(',', '.').astype(float)\n",
    "\n",
    "\n",
    "df['Hora Medicao'] = df['Hora Medicao'].astype(str)\n",
    "df['hora'] = df['Hora Medicao'].str[-4:-2].astype(int)\n",
    "df = df.drop(['Hora Medicao'],axis=1)\n",
    "df['hora'] = pd.to_timedelta(df['hora'], unit='h') - pd.Timedelta(hours=3)\n",
    "df['Data_Hora'] = df['Data Medicao'] + df['hora']\n",
    "df.set_index('Data_Hora', inplace=True)\n",
    "df['Data_Hora'] = df['Data Medicao'] + df['hora']\n",
    "df = df.drop('Unnamed: 22', axis =1)\n",
    "df['estacao'] = df.apply(mytools.encontrar_estacao, axis=1)\n",
    "df = df.sort_index()"
   ]
  },
  {
   "cell_type": "code",
   "execution_count": 57,
   "id": "44031b13",
   "metadata": {},
   "outputs": [],
   "source": [
    "df = df.dropna()"
   ]
  },
  {
   "cell_type": "code",
   "execution_count": 58,
   "id": "a151a01e",
   "metadata": {},
   "outputs": [],
   "source": [
    "col_numericas = [\n",
    "    'PRECIPITACAO TOTAL, HORARIO(mm)', 'PRESSAO ATMOSFERICA AO NIVEL DA ESTACAO, HORARIA(mB)',\n",
    "    'PRESSAO ATMOSFERICA REDUZIDA NIVEL DO MAR, AUT(mB)',\n",
    "    'PRESSAO ATMOSFERICA MAX.NA HORA ANT. (AUT)(mB)',\n",
    "    'PRESSAO ATMOSFERICA MIN. NA HORA ANT. (AUT)(mB)',\n",
    "    'RADIACAO GLOBAL(Kj/m²)', 'TEMPERATURA DA CPU DA ESTACAO(°C)',\n",
    "    'TEMPERATURA DO AR - BULBO SECO, HORARIA(°C)',\n",
    "    'TEMPERATURA DO PONTO DE ORVALHO(°C)',\n",
    "    'TEMPERATURA MAXIMA NA HORA ANT. (AUT)(°C)',\n",
    "    'TEMPERATURA MINIMA NA HORA ANT. (AUT)(°C)',\n",
    "    'TEMPERATURA ORVALHO MAX. NA HORA ANT. (AUT)(°C)',\n",
    "    'TEMPERATURA ORVALHO MIN. NA HORA ANT. (AUT)(°C)',\n",
    "    'TENSAO DA BATERIA DA ESTACAO(V)',\n",
    "    'UMIDADE REL. MAX. NA HORA ANT. (AUT)(%)',\n",
    "    'UMIDADE REL. MIN. NA HORA ANT. (AUT)(%)',\n",
    "    'UMIDADE RELATIVA DO AR, HORARIA(%)', 'VENTO, RAJADA MAXIMA(m/s)',\n",
    "    'VENTO, VELOCIDADE HORARIA(m/s)'\n",
    "]\n",
    "\n",
    "col_categoricas = ['estacao']"
   ]
  },
  {
   "cell_type": "code",
   "execution_count": 59,
   "id": "4329f4d7-6420-471e-930f-774eabb5c37f",
   "metadata": {},
   "outputs": [],
   "source": [
    "# features = ['TEMPERATURA DO PONTO DE ORVALHO(°C)','VENTO, VELOCIDADE HORARIA(m/s)', 'UMIDADE RELATIVA DO AR, HORARIA(%)', 'TEMPERATURA DO AR - BULBO SECO, HORARIA(°C)']\n",
    "parametros = (col_numericas + col_categoricas)\n",
    "variavel = ['RADIACAO GLOBAL(Kj/m²)']\n",
    "features = df[parametros]\n",
    "target = df[variavel]\n",
    "# X = df[target].values\n",
    "# y = df[features].values"
   ]
  },
  {
   "cell_type": "code",
   "execution_count": 60,
   "id": "e6d16ab6",
   "metadata": {},
   "outputs": [],
   "source": [
    "from sklearn.model_selection import train_test_split\n",
    "from sklearn.feature_selection import SelectPercentile, chi2\n",
    "from sklearn.preprocessing import MinMaxScaler, OneHotEncoder\n",
    "from sklearn.compose import ColumnTransformer\n",
    "from sklearn.impute import SimpleImputer\n",
    "from sklearn.pipeline import Pipeline\n",
    "# X_train, X_test, y_train, y_test = train_test_split(features, target, test_size=0.3, random_state=0)"
   ]
  },
  {
   "cell_type": "code",
   "execution_count": 61,
   "id": "6c6ae669",
   "metadata": {},
   "outputs": [],
   "source": [
    "numeric_features = df[col_numericas]\n",
    "numeric_transformer = Pipeline(\n",
    "    steps=[(\"imputer\", SimpleImputer(missing_values= np.nan ,strategy=\"median\")),\n",
    "           (\"scaler\", MinMaxScaler())]\n",
    ")\n",
    "\n",
    "categorical_features = df[col_categoricas]\n",
    "categorical_transformer = Pipeline(\n",
    "    steps=[\n",
    "        (\"encoder\", OneHotEncoder(handle_unknown=\"ignore\")),\n",
    "        (\"selector\", None),\n",
    "    ]\n",
    ")\n",
    "preprocessor = ColumnTransformer(\n",
    "    transformers=[\n",
    "        (\"num\", numeric_transformer, col_numericas),\n",
    "        (\"cat\", categorical_transformer, col_categoricas),\n",
    "    ]\n",
    ")\n"
   ]
  },
  {
   "cell_type": "code",
   "execution_count": 62,
   "id": "0dcbdcad",
   "metadata": {},
   "outputs": [],
   "source": [
    "X_train, X_test, y_train, y_test = train_test_split(features, target, test_size=0.3, random_state=0)"
   ]
  },
  {
   "cell_type": "code",
   "execution_count": 63,
   "id": "a1f7407b",
   "metadata": {},
   "outputs": [],
   "source": [
    "from sklearn.model_selection import TimeSeriesSplit\n",
    "tss = TimeSeriesSplit(n_splits = 5)\n",
    "for train_index, test_index in tss.split(df):\n",
    "    X_train, X_test = features.iloc[train_index, :], features.iloc[test_index,:]\n",
    "    y_train, y_test = target.iloc[train_index], target.iloc[test_index]\n"
   ]
  },
  {
   "cell_type": "code",
   "execution_count": 64,
   "id": "d5f97a42-6261-48cf-a891-fab66bb43329",
   "metadata": {},
   "outputs": [
    {
     "name": "stdout",
     "output_type": "stream",
     "text": [
      "[Pipeline] ...... (step 1 of 2) Processing preprocessor, total=   0.2s\n"
     ]
    },
    {
     "name": "stderr",
     "output_type": "stream",
     "text": [
      "/home/josue/Documentos/josusantz/.venvs/darthvadervenv/lib/python3.11/site-packages/sklearn/base.py:1473: DataConversionWarning: A column-vector y was passed when a 1d array was expected. Please change the shape of y to (n_samples,), for example using ravel().\n",
      "  return fit_method(estimator, *args, **kwargs)\n"
     ]
    },
    {
     "name": "stdout",
     "output_type": "stream",
     "text": [
      "[Pipeline] ............. (step 2 of 2) Processing model, total= 1.2min\n",
      "model score: 1.000\n"
     ]
    }
   ],
   "source": [
    "from sklearn.ensemble import RandomForestRegressor\n",
    "Rf = RandomForestRegressor()\n",
    "pipe = Pipeline(\n",
    "    steps=[(\"preprocessor\", preprocessor), \n",
    "           (\"model\", Rf)],\n",
    "    verbose = True\n",
    ")\n",
    "\n",
    "pipe.fit(X_train, y_train)\n",
    "print(\"model score: %.3f\" % pipe.score(X_test, y_test))\n"
   ]
  },
  {
   "cell_type": "code",
   "execution_count": 65,
   "id": "ebb51f02",
   "metadata": {},
   "outputs": [
    {
     "data": {
      "text/plain": [
       "['models/pipelinemodel.json']"
      ]
     },
     "execution_count": 65,
     "metadata": {},
     "output_type": "execute_result"
    }
   ],
   "source": [
    "import joblib\n",
    "filename = 'models/pipelinemodel.json'\n",
    "joblib.dump(pipe, filename)"
   ]
  },
  {
   "cell_type": "code",
   "execution_count": 66,
   "id": "e7578236",
   "metadata": {},
   "outputs": [],
   "source": [
    "loaded_model = joblib.load(filename) "
   ]
  },
  {
   "cell_type": "code",
   "execution_count": 67,
   "id": "48e9a743",
   "metadata": {},
   "outputs": [
    {
     "data": {
      "text/plain": [
       "array([278.97614,   9.2012 ,   1.5802 , ..., 101.59369,   1.80153,\n",
       "        -2.86381])"
      ]
     },
     "execution_count": 67,
     "metadata": {},
     "output_type": "execute_result"
    }
   ],
   "source": [
    "loaded_model.predict(X_test)"
   ]
  }
 ],
 "metadata": {
  "kernelspec": {
   "display_name": "Python 3 (ipykernel)",
   "language": "python",
   "name": "python3"
  },
  "language_info": {
   "codemirror_mode": {
    "name": "ipython",
    "version": 3
   },
   "file_extension": ".py",
   "mimetype": "text/x-python",
   "name": "python",
   "nbconvert_exporter": "python",
   "pygments_lexer": "ipython3",
   "version": "3.11.6"
  }
 },
 "nbformat": 4,
 "nbformat_minor": 5
}
