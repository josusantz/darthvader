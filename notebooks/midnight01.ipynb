{
 "cells": [
  {
   "cell_type": "code",
   "execution_count": null,
   "id": "f88d2749-7cbd-4758-b64c-05699d89a70e",
   "metadata": {},
   "outputs": [],
   "source": [
    "import pandas as pd\n",
    "import scripts.mytools as mytools"
   ]
  },
  {
   "cell_type": "code",
   "execution_count": 23,
   "id": "fd39fc20-3c26-426b-be46-a0a15483c7ba",
   "metadata": {},
   "outputs": [],
   "source": [
    "df = pd.read_csv('dados_A215_H_2008-06-13_2024-01-01.csv',sep= ';', header = 9)\n",
    "df['Data Medicao'] = pd.to_datetime(df['Data Medicao'])\n",
    "df['Hora Medicao'] = pd.to_datetime(df['Hora Medicao'])\n",
    "df['ano'] = df['Data Medicao'].dt.year\n",
    "df['mes'] = df['Data Medicao'].dt.month\n",
    "df['dia'] = df['Data Medicao'].dt.day\n",
    "# df['hora']= df['Hora Medicao'].str[-4:-2].astype(int)\n",
    "for col in df.columns:\n",
    "    if df[col].dtype == 'object':\n",
    "        df[col] = df[col].str.replace(',', '.').astype(float)\n",
    "\n",
    "\n",
    "df['Hora Medicao'] = df['Hora Medicao'].astype(str)\n",
    "df['hora'] = df['Hora Medicao'].str[-4:-2].astype(int)\n",
    "df = df.drop(['Hora Medicao'],axis=1)\n",
    "df['hora'] = pd.to_timedelta(df['hora'], unit='h') - pd.Timedelta(hours=3)\n",
    "df['Data_Hora'] = df['Data Medicao'] + df['hora']\n",
    "df.set_index('Data_Hora', inplace=True)\n",
    "df['Data_Hora'] = df['Data Medicao'] + df['hora']\n",
    "df = df.drop('Unnamed: 22', axis =1)\n",
    "df['estacao'] = df.apply(mytools.encontrar_estacao, axis=1)\n"
   ]
  },
  {
   "cell_type": "code",
   "execution_count": 33,
   "id": "4329f4d7-6420-471e-930f-774eabb5c37f",
   "metadata": {},
   "outputs": [],
   "source": [
    "features = ['TEMPERATURA DO PONTO DE ORVALHO(°C)','VENTO, VELOCIDADE HORARIA(m/s)', 'UMIDADE RELATIVA DO AR, HORARIA(%)', 'TEMPERATURA DO AR - BULBO SECO, HORARIA(°C)']\n",
    "target = ['RADIACAO GLOBAL(Kj/m²)']\n",
    "\n",
    "X = df[target].values\n",
    "y = df[features].values"
   ]
  },
  {
   "cell_type": "code",
   "execution_count": 34,
   "id": "e6d16ab6",
   "metadata": {},
   "outputs": [],
   "source": [
    "from sklearn.model_selection import train_test_split\n",
    "X_train, X_test, y_train, y_test = train_test_split(X, y, test_size=0.3, random_state=0)"
   ]
  },
  {
   "cell_type": "code",
   "execution_count": null,
   "id": "a151a01e",
   "metadata": {},
   "outputs": [],
   "source": [
    "col_numericas = [\n",
    "    'PRECIPITACAO TOTAL, HORARIO(mm)', 'PRESSAO ATMOSFERICA AO NIVEL DA ESTACAO, HORARIA(mB)',\n",
    "    'PRESSAO ATMOSFERICA REDUZIDA NIVEL DO MAR, AUT(mB)',\n",
    "    'PRESSAO ATMOSFERICA MAX.NA HORA ANT. (AUT)(mB)',\n",
    "    'PRESSAO ATMOSFERICA MIN. NA HORA ANT. (AUT)(mB)',\n",
    "    'RADIACAO GLOBAL(Kj/m²)', 'TEMPERATURA DA CPU DA ESTACAO(°C)',\n",
    "    'TEMPERATURA DO AR - BULBO SECO, HORARIA(°C)',\n",
    "    'TEMPERATURA DO PONTO DE ORVALHO(°C)',\n",
    "    'TEMPERATURA MAXIMA NA HORA ANT. (AUT)(°C)',\n",
    "    'TEMPERATURA MINIMA NA HORA ANT. (AUT)(°C)',\n",
    "    'TEMPERATURA ORVALHO MAX. NA HORA ANT. (AUT)(°C)',\n",
    "    'TEMPERATURA ORVALHO MIN. NA HORA ANT. (AUT)(°C)',\n",
    "    'TENSAO DA BATERIA DA ESTACAO(V)',\n",
    "    'UMIDADE REL. MAX. NA HORA ANT. (AUT)(%)',\n",
    "    'UMIDADE REL. MIN. NA HORA ANT. (AUT)(%)',\n",
    "    'UMIDADE RELATIVA DO AR, HORARIA(%)', 'VENTO, RAJADA MAXIMA(m/s)',\n",
    "    'VENTO, VELOCIDADE HORARIA(m/s)'\n",
    "]\n",
    "\n",
    "col_categoricas = ['estacao']"
   ]
  },
  {
   "cell_type": "code",
   "execution_count": null,
   "id": "6c354d47",
   "metadata": {},
   "outputs": [],
   "source": [
    "col_numericas = df[col_numericas]\n",
    "col_categoricas = df[col_categoricas]"
   ]
  },
  {
   "cell_type": "code",
   "execution_count": null,
   "id": "6c6ae669",
   "metadata": {},
   "outputs": [],
   "source": [
    "numeric_features = [\"age\", \"fare\"]\n",
    "numeric_transformer = Pipeline(\n",
    "    steps=[(\"imputer\", SimpleImputer(strategy=\"median\")), (\"scaler\", StandardScaler())]\n",
    ")\n",
    "\n",
    "categorical_features = [\"embarked\", \"sex\", \"pclass\"]\n",
    "categorical_transformer = Pipeline(\n",
    "    steps=[\n",
    "        (\"encoder\", OneHotEncoder(handle_unknown=\"ignore\")),\n",
    "        (\"selector\", SelectPercentile(chi2, percentile=50)),\n",
    "    ]\n",
    ")\n",
    "preprocessor = ColumnTransformer(\n",
    "    transformers=[\n",
    "        (\"num\", numeric_transformer, numeric_features),\n",
    "        (\"cat\", categorical_transformer, categorical_features),\n",
    "    ]\n",
    ")\n"
   ]
  },
  {
   "cell_type": "code",
   "execution_count": null,
   "id": "d5f97a42-6261-48cf-a891-fab66bb43329",
   "metadata": {},
   "outputs": [],
   "source": [
    "\n",
    "\n",
    "clf = Pipeline(\n",
    "    steps=[(\"preprocessor\", preprocessor), (\"classifier\", LogisticRegression())]\n",
    ")\n",
    "\n",
    "X_train, X_test, y_train, y_test = train_test_split(X, y, test_size=0.2, random_state=0)\n",
    "\n",
    "clf.fit(X_train, y_train)\n",
    "print(\"model score: %.3f\" % clf.score(X_test, y_test))\n"
   ]
  }
 ],
 "metadata": {
  "kernelspec": {
   "display_name": "Python 3 (ipykernel)",
   "language": "python",
   "name": "python3"
  },
  "language_info": {
   "codemirror_mode": {
    "name": "ipython",
    "version": 3
   },
   "file_extension": ".py",
   "mimetype": "text/x-python",
   "name": "python",
   "nbconvert_exporter": "python",
   "pygments_lexer": "ipython3",
   "version": "3.11.6"
  }
 },
 "nbformat": 4,
 "nbformat_minor": 5
}
