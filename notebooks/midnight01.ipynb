{
 "cells": [
  {
   "cell_type": "code",
   "execution_count": 15,
   "id": "f88d2749-7cbd-4758-b64c-05699d89a70e",
   "metadata": {},
   "outputs": [],
   "source": [
    "import pandas as pd\n",
    "import scripts.mytools as mytools"
   ]
  },
  {
   "cell_type": "code",
   "execution_count": 16,
   "id": "fd39fc20-3c26-426b-be46-a0a15483c7ba",
   "metadata": {},
   "outputs": [],
   "source": [
    "df = pd.read_csv('dados_A215_H_2008-06-13_2024-01-01.csv',sep= ';', header = 9)\n",
    "df['Data Medicao'] = pd.to_datetime(df['Data Medicao'])\n",
    "df['Hora Medicao'] = pd.to_datetime(df['Hora Medicao'])\n",
    "df['ano'] = df['Data Medicao'].dt.year\n",
    "df['mes'] = df['Data Medicao'].dt.month\n",
    "df['dia'] = df['Data Medicao'].dt.day\n",
    "# df['hora']= df['Hora Medicao'].str[-4:-2].astype(int)\n",
    "for col in df.columns:\n",
    "    if df[col].dtype == 'object':\n",
    "        df[col] = df[col].str.replace(',', '.').astype(float)\n",
    "\n",
    "\n",
    "df['Hora Medicao'] = df['Hora Medicao'].astype(str)\n",
    "df['hora'] = df['Hora Medicao'].str[-4:-2].astype(int)\n",
    "df = df.drop(['Hora Medicao'],axis=1)\n",
    "df['hora'] = pd.to_timedelta(df['hora'], unit='h') - pd.Timedelta(hours=3)\n",
    "df['Data_Hora'] = df['Data Medicao'] + df['hora']\n",
    "df.set_index('Data_Hora', inplace=True)\n",
    "df['Data_Hora'] = df['Data Medicao'] + df['hora']\n",
    "df = df.drop('Unnamed: 22', axis =1)\n",
    "df['estacao'] = df.apply(mytools.encontrar_estacao, axis=1)\n"
   ]
  },
  {
   "cell_type": "code",
   "execution_count": 17,
   "id": "4329f4d7-6420-471e-930f-774eabb5c37f",
   "metadata": {},
   "outputs": [],
   "source": [
    "features = ['TEMPERATURA DO PONTO DE ORVALHO(°C)','VENTO, VELOCIDADE HORARIA(m/s)', 'UMIDADE RELATIVA DO AR, HORARIA(%)', 'TEMPERATURA DO AR - BULBO SECO, HORARIA(°C)']\n",
    "target = ['RADIACAO GLOBAL(Kj/m²)']"
   ]
  },
  {
   "cell_type": "code",
   "execution_count": null,
   "id": "d5f97a42-6261-48cf-a891-fab66bb43329",
   "metadata": {},
   "outputs": [],
   "source": []
  }
 ],
 "metadata": {
  "kernelspec": {
   "display_name": "Python 3 (ipykernel)",
   "language": "python",
   "name": "python3"
  },
  "language_info": {
   "codemirror_mode": {
    "name": "ipython",
    "version": 3
   },
   "file_extension": ".py",
   "mimetype": "text/x-python",
   "name": "python",
   "nbconvert_exporter": "python",
   "pygments_lexer": "ipython3",
   "version": "3.11.6"
  }
 },
 "nbformat": 4,
 "nbformat_minor": 5
}
